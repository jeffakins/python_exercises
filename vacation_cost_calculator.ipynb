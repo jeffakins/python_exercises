{
 "cells": [
  {
   "cell_type": "markdown",
   "id": "1d20b8c4",
   "metadata": {},
   "source": [
    "## Florida Vacation\n"
   ]
  },
  {
   "cell_type": "code",
   "execution_count": 134,
   "id": "536da835",
   "metadata": {},
   "outputs": [],
   "source": [
    "# Disney World Vacation\n",
    "\n",
    "# Family info\n",
    "family_of_four = 4\n",
    "\n",
    "# Disney World Price\n",
    "def disney_world_cost():\n",
    "    disney_world_hotel = 260 * 0.72# Cost of contemporary 670 * 0.72# cost of Animal 540 * 0.72# cost of coronado 260*.72 \n",
    "    hotel_nights = 5\n",
    "    disney_world_tickets = 290 * family_of_four\n",
    "    hotel_cost = disney_world_hotel * hotel_nights\n",
    "    total_cost = disney_world_tickets + hotel_cost\n",
    "    return total_cost"
   ]
  },
  {
   "cell_type": "code",
   "execution_count": 135,
   "id": "67c261dc",
   "metadata": {},
   "outputs": [],
   "source": [
    "\n",
    "# Universal Price\n",
    "def universal_cost():\n",
    "    universal_hotel = 404\n",
    "    hotel_nights = 3\n",
    "    universal_tickets = 253 * family_of_four\n",
    "    hotel_cost = universal_hotel * hotel_nights\n",
    "    total_cost = universal_tickets + hotel_cost\n",
    "    return total_cost\n",
    "\n"
   ]
  },
  {
   "cell_type": "code",
   "execution_count": 136,
   "id": "3e260c4c",
   "metadata": {},
   "outputs": [],
   "source": [
    "# Flights\n",
    "def plane_tickets():\n",
    "    ticket_price = 295\n",
    "    baggage = 35 * 2\n",
    "    return (ticket_price + baggage) * family_of_four\n",
    "\n"
   ]
  },
  {
   "cell_type": "code",
   "execution_count": 137,
   "id": "b2531854",
   "metadata": {},
   "outputs": [],
   "source": [
    "# Food costs\n",
    "def food_cost():\n",
    "    food_per_person = 80\n",
    "    number_of_days = 9\n",
    "    return food_per_person * number_of_days * family_of_four\n",
    "\n"
   ]
  },
  {
   "cell_type": "code",
   "execution_count": 138,
   "id": "affb936e",
   "metadata": {},
   "outputs": [],
   "source": [
    "# Rental car\n",
    "def rental_car():\n",
    "    rental_car = 670 #741 for ten days #670 for 9 days \n",
    "    gas = 100\n",
    "    return rental_car + gas\n",
    "\n"
   ]
  },
  {
   "cell_type": "code",
   "execution_count": 139,
   "id": "7109e023",
   "metadata": {},
   "outputs": [],
   "source": [
    "def daytona_tickets():\n",
    "    roar_before = 0 #20 * 4\n",
    "    rolex_24 = 60 * 4\n",
    "    return roar_before + rolex_24"
   ]
  },
  {
   "cell_type": "code",
   "execution_count": 140,
   "id": "b81e21bf",
   "metadata": {},
   "outputs": [],
   "source": [
    "# Total trip cost\n",
    "def total_trip_cost():\n",
    "    disney_cost = disney_world_cost() \n",
    "    uni_cost = universal_cost() \n",
    "    plane_cost = plane_tickets() \n",
    "    food = food_cost()  \n",
    "    car = rental_car()\n",
    "    rolex = daytona_tickets()\n",
    "    return disney_cost + uni_cost + plane_cost + food + car + rolex\n"
   ]
  },
  {
   "cell_type": "code",
   "execution_count": 141,
   "id": "39610eef",
   "metadata": {},
   "outputs": [],
   "source": [
    "# Travel Cost\n",
    "def travel_cost():\n",
    "    plane_cost = plane_tickets()\n",
    "    car_cost = rental_car()\n",
    "    return plane_cost + car_cost"
   ]
  },
  {
   "cell_type": "code",
   "execution_count": 142,
   "id": "810332ec",
   "metadata": {},
   "outputs": [
    {
     "name": "stdout",
     "output_type": "stream",
     "text": [
      "The total cost of your trip is:  9670.0\n",
      "The total cost of Disney World is:  2096.0\n",
      "The total cost of Universal is:  2224\n",
      "The total cost of Travel is:  2230\n",
      "The total cost of food is:  2880\n",
      "The total cost of Daytona Race is:  240\n"
     ]
    }
   ],
   "source": [
    "\n",
    "print(\"The total cost of your trip is: \",  total_trip_cost())\n",
    "print(\"The total cost of Disney World is: \", disney_world_cost())\n",
    "print(\"The total cost of Universal is: \", universal_cost())\n",
    "print(\"The total cost of Travel is: \", travel_cost())\n",
    "print(\"The total cost of food is: \", food_cost())\n",
    "print(\"The total cost of Daytona Race is: \", daytona_tickets())"
   ]
  },
  {
   "cell_type": "markdown",
   "id": "4db9f377",
   "metadata": {},
   "source": [
    "### Cost for Ten Days with stay at Contemporary and Hard Rock:\n",
    "- The total cost of your trip is:  12021.0\n",
    "- The total cost of Disney World is:  3572.0\n",
    "- The total cost of Universal is:  2628\n",
    "- The total cost of Travel is:  2301\n",
    "- The total cost of food is:  3200\n",
    "- The total cost of Daytona Race is:  320"
   ]
  },
  {
   "cell_type": "markdown",
   "id": "ecb65ca3",
   "metadata": {},
   "source": [
    "### Cost for Ten Days with stay at Animal Kingdom and Hard Rock:\n",
    "- The total cost of your trip is:  11553.0\n",
    "- The total cost of Disney World is:  3104.0\n",
    "- The total cost of Universal is:  2628\n",
    "- The total cost of Travel is:  2301\n",
    "- The total cost of food is:  3200\n",
    "- The total cost of Daytona Race is:  320"
   ]
  },
  {
   "cell_type": "markdown",
   "id": "1a8cf3f5",
   "metadata": {},
   "source": [
    "### Cost for Ten Days with stay at Corornado and Hard Rock:\n",
    "- The total cost of your trip is:  10545.0\n",
    "- The total cost of Disney World is:  2096.0\n",
    "- The total cost of Universal is:  2628\n",
    "- The total cost of Travel is:  2301\n",
    "- The total cost of food is:  3200\n",
    "- The total cost of Daytona Race is:  320"
   ]
  },
  {
   "cell_type": "markdown",
   "id": "cbed9335",
   "metadata": {},
   "source": [
    "### Cost for Nine Days with stay at Coronado and Hard Rock:\n",
    "- The total cost of your trip is:  9670.0\n",
    "- The total cost of Disney World is:  2096.0\n",
    "- The total cost of Universal is:  2224\n",
    "- The total cost of Travel is:  2230\n",
    "- The total cost of food is:  2880\n",
    "- The total cost of Daytona Race is:  240"
   ]
  },
  {
   "cell_type": "code",
   "execution_count": null,
   "id": "9283641f",
   "metadata": {},
   "outputs": [],
   "source": []
  }
 ],
 "metadata": {
  "kernelspec": {
   "display_name": "Python 3",
   "language": "python",
   "name": "python3"
  },
  "language_info": {
   "codemirror_mode": {
    "name": "ipython",
    "version": 3
   },
   "file_extension": ".py",
   "mimetype": "text/x-python",
   "name": "python",
   "nbconvert_exporter": "python",
   "pygments_lexer": "ipython3",
   "version": "3.8.8"
  }
 },
 "nbformat": 4,
 "nbformat_minor": 5
}
