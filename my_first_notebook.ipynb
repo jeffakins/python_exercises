{
 "cells": [
  {
   "cell_type": "code",
   "execution_count": 2,
   "id": "505f9f1f",
   "metadata": {},
   "outputs": [
    {
     "name": "stdout",
     "output_type": "stream",
     "text": [
      "Hello World\n"
     ]
    }
   ],
   "source": [
    "print(\"Hello World\")"
   ]
  },
  {
   "cell_type": "code",
   "execution_count": 3,
   "id": "be683657",
   "metadata": {},
   "outputs": [
    {
     "name": "stdout",
     "output_type": "stream",
     "text": [
      "Hello World\n"
     ]
    }
   ],
   "source": [
    "greeting = \"Hello World\"\n",
    "print(greeting)"
   ]
  },
  {
   "cell_type": "code",
   "execution_count": 4,
   "id": "4e202307",
   "metadata": {},
   "outputs": [
    {
     "name": "stdout",
     "output_type": "stream",
     "text": [
      "You are writing in Python\n"
     ]
    }
   ],
   "source": [
    "working = \"You are writing in Python\"\n",
    "print(working)"
   ]
  },
  {
   "cell_type": "code",
   "execution_count": 6,
   "id": "722e66af",
   "metadata": {},
   "outputs": [
    {
     "name": "stdout",
     "output_type": "stream",
     "text": [
      "Is it working? True\n"
     ]
    }
   ],
   "source": [
    "it_worked = True\n",
    "no_work = False\n",
    "print('Is it working?', it_worked)"
   ]
  },
  {
   "cell_type": "code",
   "execution_count": null,
   "id": "35eb536f",
   "metadata": {},
   "outputs": [],
   "source": []
  }
 ],
 "metadata": {
  "kernelspec": {
   "display_name": "Python 3",
   "language": "python",
   "name": "python3"
  },
  "language_info": {
   "codemirror_mode": {
    "name": "ipython",
    "version": 3
   },
   "file_extension": ".py",
   "mimetype": "text/x-python",
   "name": "python",
   "nbconvert_exporter": "python",
   "pygments_lexer": "ipython3",
   "version": "3.8.8"
  }
 },
 "nbformat": 4,
 "nbformat_minor": 5
}
